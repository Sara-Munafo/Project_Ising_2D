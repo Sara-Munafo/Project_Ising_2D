{
 "cells": [
  {
   "cell_type": "code",
   "execution_count": 1,
   "id": "67c58378",
   "metadata": {},
   "outputs": [],
   "source": [
    "import pandas as pd\n",
    "import numpy as np"
   ]
  },
  {
   "cell_type": "code",
   "execution_count": 2,
   "id": "96fee748",
   "metadata": {},
   "outputs": [
    {
     "data": {
      "text/html": [
       "<div>\n",
       "<style scoped>\n",
       "    .dataframe tbody tr th:only-of-type {\n",
       "        vertical-align: middle;\n",
       "    }\n",
       "\n",
       "    .dataframe tbody tr th {\n",
       "        vertical-align: top;\n",
       "    }\n",
       "\n",
       "    .dataframe thead th {\n",
       "        text-align: right;\n",
       "    }\n",
       "</style>\n",
       "<table border=\"1\" class=\"dataframe\">\n",
       "  <thead>\n",
       "    <tr style=\"text-align: right;\">\n",
       "      <th></th>\n",
       "      <th>Exponent</th>\n",
       "      <th>Onsager Solution</th>\n",
       "      <th>Nonlinear fit</th>\n",
       "      <th>Finite size</th>\n",
       "    </tr>\n",
       "  </thead>\n",
       "  <tbody>\n",
       "    <tr>\n",
       "      <th>Magnetization</th>\n",
       "      <td>$β$</td>\n",
       "      <td>0.125</td>\n",
       "      <td>0.11</td>\n",
       "      <td></td>\n",
       "    </tr>\n",
       "    <tr>\n",
       "      <th>Susceptibility</th>\n",
       "      <td>$\\gamma$</td>\n",
       "      <td>1.750</td>\n",
       "      <td>1.54</td>\n",
       "      <td>1.47</td>\n",
       "    </tr>\n",
       "    <tr>\n",
       "      <th>Correlation Length</th>\n",
       "      <td>$\\nu$</td>\n",
       "      <td>1.000</td>\n",
       "      <td></td>\n",
       "      <td>0.96</td>\n",
       "    </tr>\n",
       "  </tbody>\n",
       "</table>\n",
       "</div>"
      ],
      "text/plain": [
       "                    Exponent  Onsager Solution Nonlinear fit Finite size\n",
       "Magnetization            $β$             0.125          0.11            \n",
       "Susceptibility      $\\gamma$             1.750          1.54        1.47\n",
       "Correlation Length     $\\nu$             1.000                      0.96"
      ]
     },
     "execution_count": 2,
     "metadata": {},
     "output_type": "execute_result"
    }
   ],
   "source": [
    "row_index = [\"Magnetization\", \"Susceptibility\",\"Correlation Length\"]\n",
    "col_index = [\"Exponent\", \"Onsager Solution\", \"Nonlinear fit\", \"Finite size\"]\n",
    "values = [\n",
    "          [\"$\\u03B2$\", 1/8, 0.11, \"\"],\n",
    "          [\"$\\gamma$\",7/4 ,1.54 , 1.47],\n",
    "          [\"$\\nu$\",1, \"\", 0.96], \n",
    "]\n",
    "data = pd.DataFrame(values, columns=col_index, index=row_index)\n",
    "data \n"
   ]
  },
  {
   "cell_type": "code",
   "execution_count": 3,
   "id": "0d0406a1",
   "metadata": {},
   "outputs": [
    {
     "data": {
      "text/html": [
       "<div>\n",
       "<style scoped>\n",
       "    .dataframe tbody tr th:only-of-type {\n",
       "        vertical-align: middle;\n",
       "    }\n",
       "\n",
       "    .dataframe tbody tr th {\n",
       "        vertical-align: top;\n",
       "    }\n",
       "\n",
       "    .dataframe thead th {\n",
       "        text-align: right;\n",
       "    }\n",
       "</style>\n",
       "<table border=\"1\" class=\"dataframe\">\n",
       "  <thead>\n",
       "    <tr style=\"text-align: right;\">\n",
       "      <th></th>\n",
       "      <th>Exponent</th>\n",
       "      <th>Onsager Solution</th>\n",
       "      <th>Finite size</th>\n",
       "    </tr>\n",
       "  </thead>\n",
       "  <tbody>\n",
       "    <tr>\n",
       "      <th>Critical temprature</th>\n",
       "      <td>$T_{c}$</td>\n",
       "      <td>2.269</td>\n",
       "      <td>2.34</td>\n",
       "    </tr>\n",
       "  </tbody>\n",
       "</table>\n",
       "</div>"
      ],
      "text/plain": [
       "                    Exponent  Onsager Solution  Finite size\n",
       "Critical temprature  $T_{c}$             2.269         2.34"
      ]
     },
     "execution_count": 3,
     "metadata": {},
     "output_type": "execute_result"
    }
   ],
   "source": [
    "Trow=[\"Critical temprature\"]\n",
    "Tcol=[\"Exponent\", \"Onsager Solution\", \"Finite size\"]\n",
    "\n",
    "\n",
    "Tvalue=[[\"$T_{c}$\", 2.269, 2.34]]\n",
    "data = pd.DataFrame(Tvalue, columns=Tcol, index=Trow)\n",
    "data \n"
   ]
  }
 ],
 "metadata": {
  "kernelspec": {
   "display_name": "Python 3 (ipykernel)",
   "language": "python",
   "name": "python3"
  },
  "language_info": {
   "codemirror_mode": {
    "name": "ipython",
    "version": 3
   },
   "file_extension": ".py",
   "mimetype": "text/x-python",
   "name": "python",
   "nbconvert_exporter": "python",
   "pygments_lexer": "ipython3",
   "version": "3.8.3"
  }
 },
 "nbformat": 4,
 "nbformat_minor": 5
}
