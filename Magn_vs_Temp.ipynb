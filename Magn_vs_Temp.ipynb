{
 "cells": [
  {
   "cell_type": "code",
   "execution_count": 1,
   "id": "a21fb99d",
   "metadata": {},
   "outputs": [],
   "source": [
    "import numpy as np\n",
    "import numpy.random as npr\n",
    "import matplotlib.pyplot as plt"
   ]
  },
  {
   "cell_type": "code",
   "execution_count": 2,
   "id": "b5f6dd57",
   "metadata": {},
   "outputs": [],
   "source": [
    "#Periodic boundary conditions:\n",
    "def bc(i):\n",
    "    if i > ns-1:\n",
    "        return 0\n",
    "    if i < 0:             #the 101-th spin is equal to the 0-th\n",
    "        return ns-1\n",
    "    else:\n",
    "        return i\n",
    "\n",
    "#Magnetisation:\n",
    "def magn(spins):\n",
    "    m = 0\n",
    "    for j in range(0,ns):\n",
    "        for k in range(0,ns):\n",
    "            m += spins[j,k]\n",
    "    return m\n",
    "    \n",
    "    \n",
    "#Energy gap with boundary cond:\n",
    "def delta_E(spins, i, j):\n",
    "    return (spins[bc(i+1)][j]+spins[bc(i-1)][j]+spins[i][bc(j+1)]+spins[i][bc(j-1)])*spins[i][j]*2  #Glauber dynamics"
   ]
  },
  {
   "cell_type": "code",
   "execution_count": 3,
   "id": "9e1e04fc",
   "metadata": {},
   "outputs": [],
   "source": [
    "def MC_Metropolis(spins,n):    #function for metropolis-hastings algorithm\n",
    "    for i in range(n):\n",
    "        for j in range(n):\n",
    "            a = npr.randint(0,n)\n",
    "            b = npr.randint(0,n)\n",
    "            dE = delta_E(spins,a,b)\n",
    "            if dE<=0:\n",
    "                spins[a][b]= -spins[a][b]                       #flip the spin\n",
    "            else:\n",
    "                prob = npr.random()\n",
    "                if prob < np.exp(-dE/T[k]):\n",
    "                    spins[a][b]= -spins[a][b]    "
   ]
  },
  {
   "cell_type": "code",
   "execution_count": 4,
   "id": "6d9983ad",
   "metadata": {},
   "outputs": [
    {
     "data": {
      "text/plain": [
       "Text(0, 0.5, 'Magnetisation')"
      ]
     },
     "execution_count": 4,
     "metadata": {},
     "output_type": "execute_result"
    },
    {
     "data": {
      "image/png": "[encoded data removed]",
      "text/plain": [
       "<Figure size 648x648 with 1 Axes>"
      ]
     },
     "metadata": {
      "needs_background": "light"
     },
     "output_type": "display_data"
    }
   ],
   "source": [
    "ns = 16\n",
    "niter = 300  #Metropolis-Hastings iterations\n",
    "      \n",
    "T = np.linspace(0.1,4,80)\n",
    "raise_T = 0\n",
    "k = 0\n",
    "M = np.zeros((len(T)))\n",
    "\n",
    "for k in (range(len(T))): \n",
    "    M1 = 0\n",
    "    spins = npr.randint(0,2,(ns,ns))  \n",
    "    spins[spins==0] = +1                #start from ground-state for each T\n",
    "    for q in (range(niter)): \n",
    "        MC_Metropolis(spins,ns)                \n",
    "        M1 = M1 + magn(spins)\n",
    "    M[k] = np.abs(M1)/(niter*ns*ns)     \n",
    "\n",
    "fig, ax = plt.subplots(figsize=(9,9))\n",
    "for k in range(len(T)):\n",
    "    ax.scatter(T[k], M[k], color =\"orange\")\n",
    "ax.set_xlabel(\"Temperature\")\n",
    "ax.set_ylabel(\"Magnetisation\")"
   ]
  },
  {
   "cell_type": "code",
   "execution_count": null,
   "id": "dfc2d3cf",
   "metadata": {},
   "outputs": [],
   "source": []
  }
 ],
 "metadata": {
  "kernelspec": {
   "display_name": "Python 3 (ipykernel)",
   "language": "python",
   "name": "python3"
  },
  "language_info": {
   "codemirror_mode": {
    "name": "ipython",
    "version": 3
   },
   "file_extension": ".py",
   "mimetype": "text/x-python",
   "name": "python",
   "nbconvert_exporter": "python",
   "pygments_lexer": "ipython3",
   "version": "3.9.12"
  }
 },
 "nbformat": 4,
 "nbformat_minor": 5
}
