{
 "cells": [
  {
   "cell_type": "markdown",
   "metadata": {},
   "source": [
    "# **MONTE CARLO METHODS AND FINITE-SIZE ANALYSIS IN PARAMAGNETIC-FERROMAGNETIC MODELS OF PHASE TRANSITION**"
   ]
  },
  {
   "cell_type": "markdown",
   "metadata": {},
   "source": [
    "Authors:\n",
    "* Carlo Divari\n",
    "* Gloria Isotton\n",
    "* Maryam Feizi\n",
    "* Sara Munafò"
   ]
  },
  {
   "cell_type": "code",
   "execution_count": 1,
   "metadata": {},
   "outputs": [],
   "source": [
    "import numpy as np\n",
    "import matplotlib.pyplot as plt"
   ]
  },
  {
   "cell_type": "markdown",
   "metadata": {},
   "source": [
    "# **INTRODUCTION**"
   ]
  },
  {
   "cell_type": "code",
   "execution_count": null,
   "metadata": {},
   "outputs": [],
   "source": [
    "#introduction"
   ]
  },
  {
   "cell_type": "code",
   "execution_count": null,
   "metadata": {},
   "outputs": [],
   "source": [
    "#ising"
   ]
  },
  {
   "cell_type": "code",
   "execution_count": null,
   "metadata": {},
   "outputs": [],
   "source": [
    "#metropolis "
   ]
  },
  {
   "cell_type": "code",
   "execution_count": null,
   "metadata": {},
   "outputs": [],
   "source": [
    "#blablabla"
   ]
  },
  {
   "cell_type": "markdown",
   "metadata": {},
   "source": [
    "# **SIMULATION OF A 2D ISING MODEL**"
   ]
  },
  {
   "cell_type": "code",
   "execution_count": 47,
   "metadata": {},
   "outputs": [],
   "source": [
    "#define variables of the model\n",
    "L=25            #dimension of the lattice\n",
    "time_f=40 #total time of the mc simulation 40\n",
    "T=2              # temperature in KbT unit\n",
    "J=1              #spin spin interaction\n",
    "kb = 1         # Boltzmann const\n",
    "step=1       # Monte Carlo steps parameter\n",
    "realiz=10     # number of Monte Carlo means\n",
    "nt=30        #number of temperatures points\n",
    "T_c = 2/np.log(1 + np.sqrt(2)) #analytic critical temperature                "
   ]
  },
  {
   "cell_type": "code",
   "execution_count": 3,
   "metadata": {},
   "outputs": [
    {
     "data": {
      "image/png": "[encoded data removed]",
      "text/plain": [
       "<Figure size 432x288 with 1 Axes>"
      ]
     },
     "metadata": {
      "needs_background": "light"
     },
     "output_type": "display_data"
    }
   ],
   "source": [
    "#Create a nxn lattice with random spin configuration\n",
    "def init_lattice(n):\n",
    "    lattice = np.random.choice([1, -1], size=(n, n))\n",
    "    return lattice\n",
    "s=init_lattice(L)\n",
    "\n",
    "#show the lattice as an image (1 spin= 1 pixel)\n",
    "plt.imshow(s)\n",
    "plt.show()"
   ]
  },
  {
   "cell_type": "code",
   "execution_count": 4,
   "metadata": {},
   "outputs": [],
   "source": [
    "#define pbc\n",
    "def bc(i):\n",
    "    if i>L-1: return 0\n",
    "    if i<0: return L-1\n",
    "    else:\n",
    "        return i"
   ]
  },
  {
   "cell_type": "code",
   "execution_count": 5,
   "metadata": {},
   "outputs": [],
   "source": [
    "#Let's define some useful functions\n",
    "\n",
    "def energy(state):\n",
    "    \n",
    "    '''define the energy at a given configuration'''\n",
    "    \n",
    "    N = state.shape[0]\n",
    "    energy = 0\n",
    "  \n",
    "    for i in range(N):\n",
    "        for j in range(N):\n",
    "\n",
    "      # get nearest neighbours states\n",
    "            nn = state[bc(i-1), j] + state[bc(i+1), j] + state[i, bc(j-1)] + state[i, bc(j+1)]\n",
    "            energy +=  -state[i,j] * nn\n",
    "    return energy / 4\n",
    "    \n",
    "    \n",
    "def magnetization(state,L):\n",
    "    \n",
    "    '''define the magnetization per site'''\n",
    "    \n",
    "    Magn = np.sum(state)/(L*L)    \n",
    "    return Magn\n",
    "\n",
    "\n",
    "def delta(s,a,b):\n",
    "    \n",
    "    '''define delta E between 2 spin configurations'''\n",
    "\n",
    "    return 2*s[a][b]*(s[a][int(bc(b+1))]+s[a][int(bc(b-1))]+s[int(bc(a+1))][b]+s[int(bc(a-1))][b])   #consider only nearest neighbours\n",
    "\n",
    "def mean_of_last_5(arr):\n",
    "    return sum(arr[-5:]) / 5\n"
   ]
  },
  {
   "cell_type": "markdown",
   "metadata": {},
   "source": [
    "# **PHASE TRANSITION ANALYSIS**"
   ]
  },
  {
   "cell_type": "code",
   "execution_count": 6,
   "metadata": {},
   "outputs": [],
   "source": [
    "# Define Monte Carlo function\n",
    "def mc_step(s,temp,step):\n",
    "    \n",
    "    L=int(s.shape[0])\n",
    "    for i in range(int(L*L/step)):\n",
    "        \n",
    "        # choose a random spin on the grid\n",
    "        a, b =np.random.randint(0,L), np.random.randint(0,L)\n",
    "        \n",
    "        # compute the delta energy before and after the flip of s(a,b)\n",
    "        delta_E=delta(s,a,b)  \n",
    "\n",
    "        # metropolis test and spin-flip\n",
    "        if delta_E <= 0 or np.random.uniform(0, 1) < np.exp(-delta_E/temp):\n",
    "            s[int(bc(a)),int(bc(b))]=-s[int(bc(a)),int(bc(b))]\n",
    "    return s"
   ]
  },
  {
   "cell_type": "code",
   "execution_count": 48,
   "metadata": {},
   "outputs": [
    {
     "name": "stdout",
     "output_type": "stream",
     "text": [
      "0\n",
      "1\n",
      "2\n",
      "3\n",
      "4\n",
      "5\n",
      "6\n",
      "7\n",
      "8\n",
      "9\n",
      "10\n",
      "11\n",
      "12\n",
      "13\n",
      "14\n",
      "15\n",
      "16\n",
      "17\n",
      "18\n",
      "19\n",
      "20\n",
      "21\n",
      "22\n",
      "23\n",
      "24\n",
      "25\n",
      "26\n",
      "27\n",
      "28\n",
      "29\n"
     ]
    }
   ],
   "source": [
    "# Do the simulation using the mc_step function previously defined\n",
    "\n",
    "# Define arrays to store state observables\n",
    "E,M,C,Chi = np.zeros(nt),np.zeros(nt),np.zeros(nt),np.zeros(nt)\n",
    "Te = np.linspace(1.,7.,nt)\n",
    "    \n",
    "#loop of equilibration\n",
    "for i in range(nt):\n",
    "    T = Te[i]\n",
    "    print(i)\n",
    "    magnetizations=np.zeros(time_f)\n",
    "    energies=np.zeros(time_f)\n",
    "        \n",
    "    for r in range(0,realiz):\n",
    "        s=np.ones((L,L))\n",
    "            \n",
    "        for t in range(0,time_f):\n",
    "            m=magnetization(s,L)\n",
    "            magnetizations[t]=magnetizations[t]+m/realiz\n",
    "            energies[t]=energies[t]+energy(s)/realiz\n",
    "            s=mc_step(s, T, step)\n",
    "\n",
    "    #print(energies/(L*L))\n",
    "    #M[i]=sum(magnetizations[-10:])/10\n",
    "    M[i]=np.mean(magnetizations)\n",
    "    E[i]=np.mean(energies)/(L*L)\n",
    "    C[i] = pow(np.std(energies),2)/(pow(L,2)*pow(T,2))\n",
    "    Chi[i] = pow(np.std(magnetizations),2)/(pow(L,2)*T)"
   ]
  },
  {
   "cell_type": "code",
   "execution_count": 49,
   "metadata": {},
   "outputs": [],
   "source": [
    "def plot_values (Te,E,M,C,Chi,L):\n",
    "    titles=['Energy','Magnetisation','Specific Heat','Susceptibility']\n",
    "    physical_quantities=[E,M,C,Chi]\n",
    "    col_map = np.array([\"navy\", \"red\", \"green\", \"orange\"])\n",
    "    plt.figure(figsize=(16,10))\n",
    "    for i in range(len(physical_quantities)):\n",
    "        ax=plt.subplot(2,2,i+1)\n",
    "        ax.set_xlabel('Temperature', fontsize=18)\n",
    "        ax.set_ylabel(titles[i], fontsize=18)\n",
    "        ax.set_title(titles[i], fontsize = 20, fontweight = \"bold\" )\n",
    "        ax.grid('--', alpha= 0.7)\n",
    "        ax.plot(Te, physical_quantities[i], '.',markersize=7, label=titles[i], alpha=0.7,color=col_map[i])\n",
    "        ax.legend()\n",
    "            \n",
    "    plt.subplots_adjust(hspace=0.3)"
   ]
  },
  {
   "cell_type": "code",
   "execution_count": 50,
   "metadata": {},
   "outputs": [
    {
     "data": {
      "image/png": "[encoded data removed]",
      "text/plain": [
       "<Figure size 1152x720 with 4 Axes>"
      ]
     },
     "metadata": {
      "needs_background": "light"
     },
     "output_type": "display_data"
    }
   ],
   "source": [
    "Te = np.linspace(1.,7.,nt)\n",
    "plot_values(Te,E,M,C,Chi,L)"
   ]
  },
  {
   "cell_type": "markdown",
   "metadata": {},
   "source": [
    "# **Equilibrazione (temp)**"
   ]
  },
  {
   "cell_type": "code",
   "execution_count": 8,
   "metadata": {},
   "outputs": [
    {
     "data": {
      "image/png": "[encoded data removed]",
      "text/plain": [
       "<Figure size 432x288 with 1 Axes>"
      ]
     },
     "metadata": {
      "needs_background": "light"
     },
     "output_type": "display_data"
    }
   ],
   "source": [
    "Te = [1,2,3,4,5,6,7]\n",
    "time_f=40\n",
    "realiz=100\n",
    "time=np.linspace(0,time_f,time_f)\n",
    "\n",
    "T=Te[2]\n",
    "mag=np.zeros(time_f)\n",
    "ene=np.zeros(time_f)\n",
    "for r in range(0,realiz):\n",
    "    s=np.ones((L,L))  #ground state\n",
    "    for t in range(0,time_f):\n",
    "        m=magnetization(s,L)\n",
    "        mag[t]=mag[t]+m/realiz\n",
    "        ene[t]=ene[t]+energy(s)/realiz\n",
    "        mc_step(s, T, step)\n",
    "plt.plot(time,ene/(L*L))\n",
    "plt.show()"
   ]
  },
  {
   "cell_type": "code",
   "execution_count": 12,
   "metadata": {},
   "outputs": [
    {
     "name": "stdout",
     "output_type": "stream",
     "text": [
      "-0.4084704\n"
     ]
    }
   ],
   "source": [
    "print(sum(ene[-10:])/(10*L*L))"
   ]
  },
  {
   "cell_type": "markdown",
   "metadata": {},
   "source": [
    "# **PREVIOUS CODE (working)**"
   ]
  },
  {
   "cell_type": "code",
   "execution_count": 117,
   "metadata": {},
   "outputs": [
    {
     "name": "stdout",
     "output_type": "stream",
     "text": [
      "0\n",
      "1\n",
      "2\n",
      "3\n",
      "4\n",
      "5\n",
      "6\n",
      "7\n",
      "8\n",
      "9\n",
      "10\n",
      "11\n",
      "12\n",
      "13\n",
      "14\n"
     ]
    }
   ],
   "source": [
    "E = np.zeros(nt)\n",
    "M = np.zeros(nt)\n",
    "C = np.zeros(nt)\n",
    "Chi = np.zeros(nt)\n",
    "Te = np.linspace(1.,7.,nt)\n",
    "    \n",
    "for i in range(len(Te)):\n",
    "    T=Te[i]\n",
    "    mag=np.zeros(time_f)\n",
    "    ene=np.zeros(time_f)\n",
    "    for r in range(0,realiz):\n",
    "        s=np.ones((L,L))  #ground state\n",
    "        for t in range(0,time_f):\n",
    "            m=magnetization(s,L)\n",
    "            mag[t]=mag[t]+m/realiz\n",
    "            ene[t]=ene[t]+energy(s)/realiz\n",
    "            mc_step(s, T, step)\n",
    "\n",
    "    #keep trace of energy and magnetisation\n",
    "    M[i]=mag[time_f-1]\n",
    "    E[i]=np.mean(ene,axis=0)/(L*L)\n",
    "    C[i] = pow(np.std(ene),2)/(pow(L,2)*pow(T,2))\n",
    "    Chi[i] = pow(np.std(mag),2)/(pow(L,2)*T)\n",
    "    print(i)"
   ]
  }
 ],
 "metadata": {
  "kernelspec": {
   "display_name": "Python 3",
   "language": "python",
   "name": "python3"
  },
  "language_info": {
   "codemirror_mode": {
    "name": "ipython",
    "version": 3
   },
   "file_extension": ".py",
   "mimetype": "text/x-python",
   "name": "python",
   "nbconvert_exporter": "python",
   "pygments_lexer": "ipython3",
   "version": "3.8.3"
  }
 },
 "nbformat": 4,
 "nbformat_minor": 4
}
