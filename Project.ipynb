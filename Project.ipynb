{
 "cells": [
  {
   "cell_type": "code",
   "execution_count": 2,
   "metadata": {},
   "outputs": [
    {
     "name": "stdout",
     "output_type": "stream",
     "text": [
      "ciao\n"
     ]
    }
   ],
   "source": [
    "print('ciaoooo')"
   ]
  },
  {
   "cell_type": "code",
   "execution_count": 114,
   "metadata": {},
   "outputs": [],
   "source": [
    "import numpy as np\n",
    "\n",
    "#define variables\n",
    "L=100\n",
    "time_f=100\n",
    "T=10 #KbT\n",
    "J=1\n",
    "step=5\n",
    "realiz=800 #mc means\n",
    "\n",
    "#define the vector of spins\n",
    "\n",
    "def rnd1():\n",
    "    r=np.random.randint(0,2)\n",
    "    if r==0: return -1\n",
    "    if r==1: return 1\n",
    "\n",
    "s=[rnd1() for i in range(L)]\n"
   ]
  },
  {
   "cell_type": "code",
   "execution_count": 115,
   "metadata": {},
   "outputs": [
    {
     "name": "stdout",
     "output_type": "stream",
     "text": [
      "[99.  0.  1.  2.  3.  4.  5.  6.  7.  8.  9. 10. 11. 12. 13. 14. 15. 16.\n",
      " 17. 18. 19. 20. 21. 22. 23. 24. 25. 26. 27. 28. 29. 30. 31. 32. 33. 34.\n",
      " 35. 36. 37. 38. 39. 40. 41. 42. 43. 44. 45. 46. 47. 48. 49. 50. 51. 52.\n",
      " 53. 54. 55. 56. 57. 58. 59. 60. 61. 62. 63. 64. 65. 66. 67. 68. 69. 70.\n",
      " 71. 72. 73. 74. 75. 76. 77. 78. 79. 80. 81. 82. 83. 84. 85. 86. 87. 88.\n",
      " 89. 90. 91. 92. 93. 94. 95. 96. 97. 98. 99.  0.]\n"
     ]
    }
   ],
   "source": [
    "#define pbc\n",
    "pbc=np.zeros(L+2)\n",
    "pbc[0]=L-1\n",
    "pbc[L+1]=0\n",
    "for i in range(1,L+1):\n",
    "    pbc[i]=i-1\n",
    "print(pbc)"
   ]
  },
  {
   "cell_type": "code",
   "execution_count": 116,
   "metadata": {},
   "outputs": [
    {
     "data": {
      "text/plain": [
       "[<matplotlib.lines.Line2D at 0x7f03259c0d60>]"
      ]
     },
     "execution_count": 116,
     "metadata": {},
     "output_type": "execute_result"
    },
    {
     "data": {
      "image/png": "[encoded data removed]",
      "text/plain": [
       "<Figure size 432x288 with 1 Axes>"
      ]
     },
     "metadata": {
      "needs_background": "light"
     },
     "output_type": "display_data"
    }
   ],
   "source": [
    "#montecarlo evolution    \n",
    "mag=np.zeros(time_f+1)\n",
    "for r in range(0,realiz):\n",
    "    s=[1 for i in range(L)]\n",
    "    for t in range(0,time_f):\n",
    "        m=sum(s)/L \n",
    "        mag[t]=mag[t]+m/realiz\n",
    "        for count in range(0,int(L/step)): #montecarlo attempt\n",
    "            a=np.random.randint(0,L)\n",
    "            x=np.random.random()\n",
    "            delta_E=2*s[int(pbc[a+1])]*(s[int(pbc[a-1+1])]+s[int(pbc[a+1+1])])  #only 1d, consider only nearest neighbours\n",
    "            if x<0.5*(1-np.tanh(delta_E/(2*T))): s[int(pbc[a+1])]=-s[int(pbc[a+1])]\n",
    "    \n",
    "t=np.linspace(0,time_f,time_f+1)\n",
    "import matplotlib.pyplot as plt\n",
    "plt.plot(t,mag)"
   ]
  },
  {
   "cell_type": "code",
   "execution_count": null,
   "metadata": {},
   "outputs": [],
   "source": []
  }
 ],
 "metadata": {
  "kernelspec": {
   "display_name": "Python 3",
   "language": "python",
   "name": "python3"
  },
  "language_info": {
   "codemirror_mode": {
    "name": "ipython",
    "version": 3
   },
   "file_extension": ".py",
   "mimetype": "text/x-python",
   "name": "python",
   "nbconvert_exporter": "python",
   "pygments_lexer": "ipython3",
   "version": "3.8.3"
  }
 },
 "nbformat": 4,
 "nbformat_minor": 5
}
