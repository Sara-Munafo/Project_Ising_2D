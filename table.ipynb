{
 "cells": [
  {
   "cell_type": "code",
   "execution_count": 15,
   "id": "baa12f62-4e37-4519-88c9-f41c8f84cb06",
   "metadata": {},
   "outputs": [],
   "source": [
    "import pandas as pd\n",
    "import numpy as np"
   ]
  },
  {
   "cell_type": "code",
   "execution_count": 37,
   "id": "75e75516-366e-48eb-992a-32e2de5d4072",
   "metadata": {},
   "outputs": [
    {
     "data": {
      "text/html": [
       "<div>\n",
       "<style scoped>\n",
       "    .dataframe tbody tr th:only-of-type {\n",
       "        vertical-align: middle;\n",
       "    }\n",
       "\n",
       "    .dataframe tbody tr th {\n",
       "        vertical-align: top;\n",
       "    }\n",
       "\n",
       "    .dataframe thead th {\n",
       "        text-align: right;\n",
       "    }\n",
       "</style>\n",
       "<table border=\"1\" class=\"dataframe\">\n",
       "  <thead>\n",
       "    <tr style=\"text-align: right;\">\n",
       "      <th></th>\n",
       "      <th>Exponent</th>\n",
       "      <th>Onsager Solution</th>\n",
       "      <th>Nonlinear fit</th>\n",
       "      <th>Finit size</th>\n",
       "    </tr>\n",
       "  </thead>\n",
       "  <tbody>\n",
       "    <tr>\n",
       "      <th>Magnetization</th>\n",
       "      <td>$β$</td>\n",
       "      <td>0.125</td>\n",
       "      <td>0.114</td>\n",
       "      <td></td>\n",
       "    </tr>\n",
       "    <tr>\n",
       "      <th>Susceptibility</th>\n",
       "      <td>$\\gamma$</td>\n",
       "      <td>1.750</td>\n",
       "      <td>1.54</td>\n",
       "      <td></td>\n",
       "    </tr>\n",
       "    <tr>\n",
       "      <th>Correlation Length</th>\n",
       "      <td>$\\nu$</td>\n",
       "      <td>1.000</td>\n",
       "      <td></td>\n",
       "      <td>0.95895</td>\n",
       "    </tr>\n",
       "  </tbody>\n",
       "</table>\n",
       "</div>"
      ],
      "text/plain": [
       "                    Exponent  Onsager Solution Nonlinear fit Finit size\n",
       "Magnetization            $β$             0.125         0.114           \n",
       "Susceptibility      $\\gamma$             1.750          1.54           \n",
       "Correlation Length     $\\nu$             1.000                  0.95895"
      ]
     },
     "execution_count": 37,
     "metadata": {},
     "output_type": "execute_result"
    }
   ],
   "source": [
    "row_index = [\"Magnetization\", \"Susceptibility\",\"Correlation Length\"]\n",
    "col_index = [\"Exponent\", \"Onsager Solution\", \"Nonlinear fit\", \"Finit size\"]\n",
    "values = [\n",
    "          [\"$\\u03B2$\", 1/8, 0.114, \"\"],\n",
    "          [\"$\\gamma$\",7/4 ,1.54 , \"\"],\n",
    "          [\"$\\nu$\",1, \"\", 0.95895], \n",
    "]\n",
    "data = pd.DataFrame(values, columns=col_index, index=row_index)\n",
    "data "
   ]
  },
  {
   "cell_type": "code",
   "execution_count": 38,
   "id": "75cb4c00-4c5d-4fd9-8b67-5fd513710115",
   "metadata": {},
   "outputs": [
    {
     "data": {
      "text/html": [
       "<div>\n",
       "<style scoped>\n",
       "    .dataframe tbody tr th:only-of-type {\n",
       "        vertical-align: middle;\n",
       "    }\n",
       "\n",
       "    .dataframe tbody tr th {\n",
       "        vertical-align: top;\n",
       "    }\n",
       "\n",
       "    .dataframe thead th {\n",
       "        text-align: right;\n",
       "    }\n",
       "</style>\n",
       "<table border=\"1\" class=\"dataframe\">\n",
       "  <thead>\n",
       "    <tr style=\"text-align: right;\">\n",
       "      <th></th>\n",
       "      <th>Exponent</th>\n",
       "      <th>Onsager Solution</th>\n",
       "      <th>Nonlinear fit</th>\n",
       "      <th>Finit size</th>\n",
       "    </tr>\n",
       "  </thead>\n",
       "  <tbody>\n",
       "    <tr>\n",
       "      <th>Temprature</th>\n",
       "      <td>$T_{c}$</td>\n",
       "      <td>2.269</td>\n",
       "      <td>2.273</td>\n",
       "      <td>2.33607</td>\n",
       "    </tr>\n",
       "  </tbody>\n",
       "</table>\n",
       "</div>"
      ],
      "text/plain": [
       "           Exponent  Onsager Solution  Nonlinear fit  Finit size\n",
       "Temprature  $T_{c}$             2.269          2.273     2.33607"
      ]
     },
     "execution_count": 38,
     "metadata": {},
     "output_type": "execute_result"
    }
   ],
   "source": [
    "Trow=[\"Temprature\"]\n",
    "Tcol=[\"Exponent\", \"Onsager Solution\", \"Nonlinear fit\", \"Finit size\"]\n",
    "\n",
    "\n",
    "Tvalue=[[\"$T_{c}$\", 2.269, 2.273, 2.33607]]\n",
    "data = pd.DataFrame(Tvalue, columns=Tcol, index=Trow)\n",
    "data "
   ]
  },
  {
   "cell_type": "code",
   "execution_count": null,
   "id": "ce1deb68-3d92-4506-adae-ccb9b1749221",
   "metadata": {},
   "outputs": [],
   "source": []
  },
  {
   "cell_type": "code",
   "execution_count": null,
   "id": "3ae9f929-3813-4098-a377-bbd4ddca72e5",
   "metadata": {},
   "outputs": [],
   "source": []
  }
 ],
 "metadata": {
  "kernelspec": {
   "display_name": "Python 3 (ipykernel)",
   "language": "python",
   "name": "python3"
  },
  "language_info": {
   "codemirror_mode": {
    "name": "ipython",
    "version": 3
   },
   "file_extension": ".py",
   "mimetype": "text/x-python",
   "name": "python",
   "nbconvert_exporter": "python",
   "pygments_lexer": "ipython3",
   "version": "3.9.16"
  }
 },
 "nbformat": 4,
 "nbformat_minor": 5
}
