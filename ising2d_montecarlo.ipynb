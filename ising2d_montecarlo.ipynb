{
 "cells": [
  {
   "cell_type": "markdown",
   "metadata": {},
   "source": [
    "# **MONTE CARLO METHODS AND FINITE-SIZE ANALYSIS IN PARAMAGNETIC-FERROMAGNETIC MODELS OF PHASE TRANSITION**"
   ]
  },
  {
   "cell_type": "markdown",
   "metadata": {},
   "source": [
    "Authors:\n",
    "* Carlo Divari\n",
    "* Gloria Isotton\n",
    "* Maryam Feizi\n",
    "* Sara Munafò"
   ]
  },
  {
   "cell_type": "code",
   "execution_count": 71,
   "metadata": {},
   "outputs": [],
   "source": [
    "import numpy as np\n",
    "import matplotlib.pyplot as plt"
   ]
  },
  {
   "cell_type": "markdown",
   "metadata": {},
   "source": [
    "# **INTRODUCTION**"
   ]
  },
  {
   "cell_type": "code",
   "execution_count": null,
   "metadata": {},
   "outputs": [],
   "source": [
    "#introduction"
   ]
  },
  {
   "cell_type": "code",
   "execution_count": null,
   "metadata": {},
   "outputs": [],
   "source": [
    "#ising"
   ]
  },
  {
   "cell_type": "code",
   "execution_count": null,
   "metadata": {},
   "outputs": [],
   "source": [
    "#metropolis "
   ]
  },
  {
   "cell_type": "code",
   "execution_count": null,
   "metadata": {},
   "outputs": [],
   "source": [
    "#blablabla"
   ]
  },
  {
   "cell_type": "markdown",
   "metadata": {},
   "source": [
    "# **SIMULATION OF A 2D ISING MODEL**"
   ]
  },
  {
   "cell_type": "code",
   "execution_count": null,
   "metadata": {},
   "outputs": [],
   "source": [
    "def Ising(N, beta, eq_steps = int(1e4), steps = int(1e6), order = False, annealing = False, cluster = False, verbose=True):\n",
    "    '''\n",
    "    Run a simulation of a 2d Ising model\n",
    "\n",
    "    Parameters:\n",
    "    - N: number of sites per dimension\n",
    "    - beta\n",
    "    - eq_steps: initial steps for the equilibration phase\n",
    "    - steps: effective steps of the simulation\n",
    "    - order: generate a ordered configuration with uniform magnetisation\n",
    "    - annealing: using simulating annealing during equilibration\n",
    "    - cluster: to use the Wolff algorithm\n",
    "    - verbose: more detailed output during simulation\n",
    "    \n",
    "    Output:\n",
    "    - E_mean: Mean energy \n",
    "    - M_mean: Mean magnetization\n",
    "    - Cs: Specific heat\n",
    "    - Chis: Susceptibility\n",
    "    - E_var: Energy error\n",
    "    - M_var: Magnetisation error\n",
    "    - E_eq: Energy on equilibration\n",
    "    - M_eq: Magnetisation on equilibration\n",
    "    - E: Energy on simulation\n",
    "    - M Magnetisation on simulation\n",
    "\n",
    "    '''\n",
    "    \n",
    "    if verbose:\n",
    "        print('---------- ISING MODEL ----------')\n",
    "        print('N:', N, ', beta:', beta, ', cluster:', cluster, ', annealing:', annealing , '\\n')\n",
    "\n",
    "        print('Start equilibration...')\n",
    "\n",
    "  # Init state\n",
    "    if order:\n",
    "        curr_state = np.ones((N,N))\n",
    "    else:\n",
    "        curr_state = init_state(N)\n",
    "\n",
    "    E_eq = np.zeros(eq_steps)\n",
    "    M_eq = np.zeros(eq_steps)\n",
    "  \n",
    "    if annealing:\n",
    "        ### Equilibation with SA\n",
    "        betas = np.zeros(eq_steps)\n",
    "        N_annealing = eq_steps-eq_steps//10\n",
    "        betas[:N_annealing] = np.linspace(0.1, beta, num=N_annealing, endpoint=True)\n",
    "        betas[N_annealing:] = beta\n",
    "    else:\n",
    "    ### Equilibration\n",
    "        betas = np.zeros(eq_steps) + beta\n",
    "      \n",
    "  # Loop over time steps\n",
    "    if verbose:\n",
    "        for i in tqdm(range(eq_steps)):\n",
    "            #keep trace of energy and magnetisation\n",
    "            E_eq[i] = energy(curr_state)\n",
    "            M_eq[i] = np.sum(curr_state)\n",
    "            #update the state\n",
    "            if cluster:\n",
    "                curr_state = wolff(curr_state, betas[i])         \n",
    "            else:\n",
    "                curr_state = glauber(curr_state, betas[i])\n",
    "\n",
    "        print('End equilibration...\\n')\n",
    "    \n",
    "    else:\n",
    "        for i in range(eq_steps):\n",
    "            #keep trace of energy and magnetisation\n",
    "            E_eq[i] = energy(curr_state)\n",
    "            M_eq[i] = np.sum(curr_state)\n",
    "            #update the state\n",
    "            if cluster:\n",
    "                curr_state = wolff(curr_state, betas[i])         \n",
    "            else:\n",
    "                curr_state = glauber(curr_state, betas[i])\n",
    "        \n",
    "  ### Simulation\n",
    "    if verbose:  \n",
    "        print('Start simulation...')\n",
    "\n",
    "  # Define arrays for storing state observables\n",
    "    E = np.zeros(steps)\n",
    "    M = np.zeros(steps)\n",
    "  \n",
    "    if verbose:\n",
    "        for i in tqdm(range(steps)):\n",
    "            #keep trace of energy and magnetisation\n",
    "            E[i] = energy(curr_state)\n",
    "            M[i] = np.sum(curr_state)\n",
    "            # Evolve state\n",
    "            if cluster:\n",
    "                curr_state = wolff(curr_state, beta)\n",
    "            else:\n",
    "                curr_state = glauber(curr_state, beta)\n",
    "        print('End simulation...')\n",
    "    \n",
    "    else:\n",
    "        for i in range(steps):\n",
    "          #keep trace of energy and magnetisation\n",
    "            E[i] = energy(curr_state)\n",
    "            M[i] = np.sum(curr_state)\n",
    "          # Evolve state\n",
    "            if cluster:\n",
    "                curr_state = wolff(curr_state, beta)\n",
    "            else:\n",
    "                curr_state = glauber(curr_state, beta)\n",
    "\n",
    "    ### Compute observables\n",
    "    E_mean, M_mean, C, Chi = np.mean(E), np.mean(M), beta**2*np.std(E)**2, beta*np.std(M)**2\n",
    "    E_var, M_var = np.std(E), np.std(M)\n",
    "\n",
    "  ### Return results\n",
    "    return (E_mean, M_mean, C, Chi,\n",
    "            E_var, M_var,\n",
    "            E_eq, M_eq, E, M) \n",
    "\n",
    "\n",
    "\n",
    "\n",
    "\n",
    "\n",
    "N_T = 40\n",
    "Ts = np.linspace(0.75, 3.75, endpoint=True, num=N_T)\n",
    "betas = 1 / Ts\n",
    "\n",
    "Ns = [10,20,30,40,50]\n",
    "N_N = len(Ns)\n",
    "eq_steps = int(1e4)\n",
    "steps = int(1e4)\n",
    "\n",
    "Es = np.zeros((N_N, N_T))\n",
    "Ms = np.zeros((N_N, N_T))\n",
    "Cs = np.zeros((N_N, N_T))\n",
    "Chis = np.zeros((N_N, N_T))\n",
    "\n",
    "for i,N in enumerate(Ns):\n",
    "  print('Simulating N={}'.format(N))\n",
    "  for j, beta in enumerate(tqdm(betas)):\n",
    "    #print('\\t{}/{}  beta: {}'.format(j,N_T,beta))\n",
    "    E_mean, M_mean, C_mean, Chi_mean, E_var, M_var, E_eq, M_eq, E, M,  = Ising( N, beta, eq_steps=eq_steps, steps=steps, annealing=False, cluster=False,verbose=False  )\n",
    "\n",
    "    Es[i,j] = E_mean\n",
    "    Ms[i,j] = M_mean\n",
    "    Cs[i,j] = C_mean\n",
    "    Chis[i,j] = Chi_mean"
   ]
  },
  {
   "cell_type": "code",
   "execution_count": 79,
   "metadata": {},
   "outputs": [],
   "source": [
    "#define variables\n",
    "L=40   #dimension of the squared matrix\n",
    "time_f=20\n",
    "T=2 #KbT\n",
    "J=1\n",
    "step=1\n",
    "realiz=10 #mc means\n",
    "nt=10  #number of temperatures"
   ]
  },
  {
   "cell_type": "code",
   "execution_count": 73,
   "metadata": {},
   "outputs": [],
   "source": [
    "#Create a nxn lattice with random spin configuration\n",
    "def init_lattice(n):\n",
    "    lattice = np.random.choice([1, -1], size=(n, n))\n",
    "    return lattice"
   ]
  },
  {
   "cell_type": "code",
   "execution_count": 74,
   "metadata": {},
   "outputs": [],
   "source": [
    "#define pbc\n",
    "def bc(i):\n",
    "    if i>L-1: \n",
    "        return 0\n",
    "    if i<0:\n",
    "        return L-1\n",
    "    else:\n",
    "        return i"
   ]
  },
  {
   "cell_type": "code",
   "execution_count": 75,
   "metadata": {},
   "outputs": [],
   "source": [
    "#compute some useful variables\n",
    "\n",
    "def energy(state):\n",
    "    \n",
    "    '''define the energy at a given configuration'''\n",
    "    \n",
    "    N = state.shape[0]\n",
    "    energy = 0\n",
    "  \n",
    "    for i in range(N):\n",
    "        for j in range(N):\n",
    "\n",
    "      # get nearest neighbours states\n",
    "            nn = state[bc(i-1), j] + state[bc(i+1), j] + state[i, bc(j-1)] + state[i, bc(j+1)]\n",
    "            energy +=  -state[i,j] * nn\n",
    "    return energy / 2 \n",
    "    \n",
    "    \n",
    "def magnetization(state,L):\n",
    "    \n",
    "    '''define the magnetization per site'''\n",
    "    \n",
    "    Magn = np.sum(state)/(L*L)    \n",
    "    return Magn\n",
    "\n",
    "\n",
    "def delta(s,a,b):\n",
    "    \n",
    "    '''define delta E between 2 spin configurations'''\n",
    "\n",
    "    return 2*s[a][b]*(s[a][int(bc(b+1))]+s[a][int(bc(b-1))]+s[int(bc(a+1))][b]+s[int(bc(a-1))][b])   #consider only nearest neighbours"
   ]
  },
  {
   "cell_type": "code",
   "execution_count": 76,
   "metadata": {},
   "outputs": [
    {
     "name": "stdout",
     "output_type": "stream",
     "text": [
      "0\n",
      "1\n",
      "2\n",
      "3\n",
      "4\n",
      "5\n",
      "6\n",
      "7\n",
      "8\n",
      "9\n"
     ]
    }
   ],
   "source": [
    "# Define arrays to store state observables\n",
    "E = np.zeros(nt)\n",
    "M = np.zeros(nt)\n",
    "C = np.zeros(nt)\n",
    "Chi = np.zeros(nt)\n",
    "Te = np.linspace(0.1,5,nt)\n",
    "\n",
    "for i in range(len(Te)):\n",
    "    T=Te[i]\n",
    "    mag=np.zeros(time_f)\n",
    "    ene=np.zeros(time_f)\n",
    "    for r in range(0,realiz):\n",
    "        s=np.ones((L,L))  #ground state\n",
    "        for t in range(0,time_f):\n",
    "            m=magnetization(s,L)\n",
    "            mag[t]=mag[t]+m/realiz\n",
    "            ene[t]=energy(s)\n",
    "            for count in range(0,int(L*L/step)): #montecarlo attempt\n",
    "                a=np.random.randint(0,L)\n",
    "                b=np.random.randint(0,L)\n",
    "                x=np.random.random()\n",
    "                delta_E=delta(s,a,b)  \n",
    "                if x<0.5*(1-np.tanh(delta_E/(2*T))): s[int(bc(a)),int(bc(b))]=-s[int(bc(a)),int(bc(b))]\n",
    "    #keep trace of energy and magnetisation\n",
    "    M[i]=mag[time_f-1]\n",
    "    E[i]=np.mean(ene,axis=0)/(L*L)\n",
    "    C[i] = len(ene)*pow(np.std(ene),2)/(pow(L,2)*pow(T,2))\n",
    "    Chi[i] = len(mag)*pow(np.std(mag),2)/(pow(L,2)*T)\n",
    "    print(i)\n",
    "\n",
    "#plt.plot(Te,M,'bo')\n",
    "#plt.xlabel('Temperature')\n",
    "#plt.ylabel('Magnetisation')"
   ]
  },
  {
   "cell_type": "code",
   "execution_count": 54,
   "metadata": {},
   "outputs": [
    {
     "data": {
      "text/plain": [
       "[<matplotlib.lines.Line2D at 0x7f1887038190>]"
      ]
     },
     "execution_count": 54,
     "metadata": {},
     "output_type": "execute_result"
    },
    {
     "data": {
      "image/png": "[encoded data removed]",
      "text/plain": [
       "<Figure size 432x288 with 1 Axes>"
      ]
     },
     "metadata": {
      "needs_background": "light"
     },
     "output_type": "display_data"
    }
   ],
   "source": [
    "Te = np.linspace(0.1,5,nt)\n",
    "plt.plot(Te,Chi,'bo')"
   ]
  },
  {
   "cell_type": "code",
   "execution_count": 77,
   "metadata": {},
   "outputs": [],
   "source": [
    "def plot_values (Te,E,M,C,Chi,L):\n",
    "    titles=['Energy','Magnetisation','Specific Heat','Susceptibility']\n",
    "    physical_quantities=[E,M,C,Chi]\n",
    "    col_map = np.array([\"navy\", \"red\", \"green\", \"orange\"])\n",
    "    plt.figure(figsize=(16,10))\n",
    "    for i in range(len(physical_quantities)):\n",
    "        ax=plt.subplot(2,2,i+1)\n",
    "        ax.set_xlabel('Temperature', fontsize=18)\n",
    "        ax.set_ylabel(titles[i], fontsize=18)\n",
    "        ax.set_title(titles[i], fontsize = 20, fontweight = \"bold\" )\n",
    "        ax.grid('--', alpha= 0.7)\n",
    "        ax.plot(Te, physical_quantities[i], '.',markersize=7, label=titles[i], alpha=0.7,color=col_map[i])\n",
    "        ax.legend()\n",
    "            \n",
    "    plt.subplots_adjust(hspace=0.3)"
   ]
  },
  {
   "cell_type": "code",
   "execution_count": 78,
   "metadata": {},
   "outputs": [
    {
     "data": {
      "image/png": "[encoded data removed]",
      "text/plain": [
       "<Figure size 1152x720 with 4 Axes>"
      ]
     },
     "metadata": {
      "needs_background": "light"
     },
     "output_type": "display_data"
    }
   ],
   "source": [
    "plot_values(Te,E,M,C,Chi,L)"
   ]
  },
  {
   "cell_type": "code",
   "execution_count": null,
   "metadata": {},
   "outputs": [],
   "source": []
  }
 ],
 "metadata": {
  "kernelspec": {
   "display_name": "Python 3",
   "language": "python",
   "name": "python3"
  },
  "language_info": {
   "codemirror_mode": {
    "name": "ipython",
    "version": 3
   },
   "file_extension": ".py",
   "mimetype": "text/x-python",
   "name": "python",
   "nbconvert_exporter": "python",
   "pygments_lexer": "ipython3",
   "version": "3.8.3"
  }
 },
 "nbformat": 4,
 "nbformat_minor": 4
}
